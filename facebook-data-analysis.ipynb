{
 "cells": [
  {
   "cell_type": "markdown",
   "metadata": {},
   "source": [
    "## Downloading the Dataset\n",
    "\n",
    "In this section, we will download the dataset from kaggle using the opendatasets library."
   ]
  },
  {
   "cell_type": "code",
   "execution_count": 1,
   "metadata": {},
   "outputs": [],
   "source": [
    "!pip install opendatasets --upgrade --quiet"
   ]
  },
  {
   "cell_type": "markdown",
   "metadata": {},
   "source": [
    "Let's begin by downloading the data, and listing the files within the dataset."
   ]
  },
  {
   "cell_type": "code",
   "execution_count": 2,
   "metadata": {},
   "outputs": [],
   "source": [
    "dataset_url = 'https://www.kaggle.com/sheenabatra/facebook-data' "
   ]
  },
  {
   "cell_type": "code",
   "execution_count": 3,
   "metadata": {},
   "outputs": [
    {
     "name": "stdout",
     "output_type": "stream",
     "text": [
      "Please provide your Kaggle credentials to download this dataset. Learn more: http://bit.ly/kaggle-creds\n",
      "Your Kaggle username: rupeshsharma14\n",
      "Your Kaggle Key: ········\n"
     ]
    },
    {
     "name": "stderr",
     "output_type": "stream",
     "text": [
      "100%|█████████████████████████████████████████████████████████████████████████████| 1.82M/1.82M [00:00<00:00, 11.7MB/s]"
     ]
    },
    {
     "name": "stdout",
     "output_type": "stream",
     "text": [
      "Downloading facebook-data.zip to .\\facebook-data\n",
      "\n"
     ]
    },
    {
     "name": "stderr",
     "output_type": "stream",
     "text": [
      "\n"
     ]
    }
   ],
   "source": [
    "import opendatasets as od\n",
    "od.download(dataset_url)"
   ]
  },
  {
   "cell_type": "markdown",
   "metadata": {},
   "source": [
    "The dataset has been downloaded and extracted."
   ]
  },
  {
   "cell_type": "code",
   "execution_count": 4,
   "metadata": {},
   "outputs": [],
   "source": [
    "data_dir = './facebook-data'"
   ]
  },
  {
   "cell_type": "code",
   "execution_count": 5,
   "metadata": {},
   "outputs": [
    {
     "data": {
      "text/plain": [
       "['pseudo_facebook.csv']"
      ]
     },
     "execution_count": 5,
     "metadata": {},
     "output_type": "execute_result"
    }
   ],
   "source": [
    "import os\n",
    "os.listdir(data_dir)"
   ]
  },
  {
   "cell_type": "markdown",
   "metadata": {},
   "source": [
    "## Data Preparation and Cleaning\n",
    "\n",
    "In this section, we will perform the following tasks:\n",
    "- Load our dataset into panadas.\n",
    "- Rename few columns.\n",
    "- Check the size of the dataset.\n",
    "- Basic descriptive statistics about the dataset.\n",
    "- Clean our dataset for any missing values.\n",
    "- Format our data types.\n",
    "- Create a new column which will help us to categorize column 'age'."
   ]
  },
  {
   "cell_type": "code",
   "execution_count": 6,
   "metadata": {},
   "outputs": [],
   "source": [
    "import pandas as pd\n",
    "import numpy as np"
   ]
  },
  {
   "cell_type": "markdown",
   "metadata": {},
   "source": [
    "Loading the dataset into a dataframe using pandas."
   ]
  },
  {
   "cell_type": "code",
   "execution_count": 7,
   "metadata": {},
   "outputs": [],
   "source": [
    "df = pd.read_csv(data_dir + '/pseudo_facebook.csv')"
   ]
  },
  {
   "cell_type": "code",
   "execution_count": 8,
   "metadata": {},
   "outputs": [
    {
     "data": {
      "text/html": [
       "<div>\n",
       "<style scoped>\n",
       "    .dataframe tbody tr th:only-of-type {\n",
       "        vertical-align: middle;\n",
       "    }\n",
       "\n",
       "    .dataframe tbody tr th {\n",
       "        vertical-align: top;\n",
       "    }\n",
       "\n",
       "    .dataframe thead th {\n",
       "        text-align: right;\n",
       "    }\n",
       "</style>\n",
       "<table border=\"1\" class=\"dataframe\">\n",
       "  <thead>\n",
       "    <tr style=\"text-align: right;\">\n",
       "      <th></th>\n",
       "      <th>userid</th>\n",
       "      <th>age</th>\n",
       "      <th>dob_day</th>\n",
       "      <th>dob_year</th>\n",
       "      <th>dob_month</th>\n",
       "      <th>gender</th>\n",
       "      <th>tenure</th>\n",
       "      <th>friend_count</th>\n",
       "      <th>friendships_initiated</th>\n",
       "      <th>likes</th>\n",
       "      <th>likes_received</th>\n",
       "      <th>mobile_likes</th>\n",
       "      <th>mobile_likes_received</th>\n",
       "      <th>www_likes</th>\n",
       "      <th>www_likes_received</th>\n",
       "    </tr>\n",
       "  </thead>\n",
       "  <tbody>\n",
       "    <tr>\n",
       "      <th>0</th>\n",
       "      <td>2094382</td>\n",
       "      <td>14</td>\n",
       "      <td>19</td>\n",
       "      <td>1999</td>\n",
       "      <td>11</td>\n",
       "      <td>male</td>\n",
       "      <td>266.0</td>\n",
       "      <td>0</td>\n",
       "      <td>0</td>\n",
       "      <td>0</td>\n",
       "      <td>0</td>\n",
       "      <td>0</td>\n",
       "      <td>0</td>\n",
       "      <td>0</td>\n",
       "      <td>0</td>\n",
       "    </tr>\n",
       "    <tr>\n",
       "      <th>1</th>\n",
       "      <td>1192601</td>\n",
       "      <td>14</td>\n",
       "      <td>2</td>\n",
       "      <td>1999</td>\n",
       "      <td>11</td>\n",
       "      <td>female</td>\n",
       "      <td>6.0</td>\n",
       "      <td>0</td>\n",
       "      <td>0</td>\n",
       "      <td>0</td>\n",
       "      <td>0</td>\n",
       "      <td>0</td>\n",
       "      <td>0</td>\n",
       "      <td>0</td>\n",
       "      <td>0</td>\n",
       "    </tr>\n",
       "    <tr>\n",
       "      <th>2</th>\n",
       "      <td>2083884</td>\n",
       "      <td>14</td>\n",
       "      <td>16</td>\n",
       "      <td>1999</td>\n",
       "      <td>11</td>\n",
       "      <td>male</td>\n",
       "      <td>13.0</td>\n",
       "      <td>0</td>\n",
       "      <td>0</td>\n",
       "      <td>0</td>\n",
       "      <td>0</td>\n",
       "      <td>0</td>\n",
       "      <td>0</td>\n",
       "      <td>0</td>\n",
       "      <td>0</td>\n",
       "    </tr>\n",
       "    <tr>\n",
       "      <th>3</th>\n",
       "      <td>1203168</td>\n",
       "      <td>14</td>\n",
       "      <td>25</td>\n",
       "      <td>1999</td>\n",
       "      <td>12</td>\n",
       "      <td>female</td>\n",
       "      <td>93.0</td>\n",
       "      <td>0</td>\n",
       "      <td>0</td>\n",
       "      <td>0</td>\n",
       "      <td>0</td>\n",
       "      <td>0</td>\n",
       "      <td>0</td>\n",
       "      <td>0</td>\n",
       "      <td>0</td>\n",
       "    </tr>\n",
       "    <tr>\n",
       "      <th>4</th>\n",
       "      <td>1733186</td>\n",
       "      <td>14</td>\n",
       "      <td>4</td>\n",
       "      <td>1999</td>\n",
       "      <td>12</td>\n",
       "      <td>male</td>\n",
       "      <td>82.0</td>\n",
       "      <td>0</td>\n",
       "      <td>0</td>\n",
       "      <td>0</td>\n",
       "      <td>0</td>\n",
       "      <td>0</td>\n",
       "      <td>0</td>\n",
       "      <td>0</td>\n",
       "      <td>0</td>\n",
       "    </tr>\n",
       "  </tbody>\n",
       "</table>\n",
       "</div>"
      ],
      "text/plain": [
       "    userid  age  dob_day  dob_year  dob_month  gender  tenure  friend_count  \\\n",
       "0  2094382   14       19      1999         11    male   266.0             0   \n",
       "1  1192601   14        2      1999         11  female     6.0             0   \n",
       "2  2083884   14       16      1999         11    male    13.0             0   \n",
       "3  1203168   14       25      1999         12  female    93.0             0   \n",
       "4  1733186   14        4      1999         12    male    82.0             0   \n",
       "\n",
       "   friendships_initiated  likes  likes_received  mobile_likes  \\\n",
       "0                      0      0               0             0   \n",
       "1                      0      0               0             0   \n",
       "2                      0      0               0             0   \n",
       "3                      0      0               0             0   \n",
       "4                      0      0               0             0   \n",
       "\n",
       "   mobile_likes_received  www_likes  www_likes_received  \n",
       "0                      0          0                   0  \n",
       "1                      0          0                   0  \n",
       "2                      0          0                   0  \n",
       "3                      0          0                   0  \n",
       "4                      0          0                   0  "
      ]
     },
     "execution_count": 8,
     "metadata": {},
     "output_type": "execute_result"
    }
   ],
   "source": [
    "df.head()"
   ]
  },
  {
   "cell_type": "markdown",
   "metadata": {},
   "source": [
    "To get better understanding of the dataset, lets rename its two columns."
   ]
  },
  {
   "cell_type": "code",
   "execution_count": 9,
   "metadata": {},
   "outputs": [],
   "source": [
    "df.rename(columns = {'likes' : 'total_likes', 'likes_received' : 'total_likes_recieved'}, inplace = True)"
   ]
  },
  {
   "cell_type": "code",
   "execution_count": 10,
   "metadata": {},
   "outputs": [
    {
     "data": {
      "text/html": [
       "<div>\n",
       "<style scoped>\n",
       "    .dataframe tbody tr th:only-of-type {\n",
       "        vertical-align: middle;\n",
       "    }\n",
       "\n",
       "    .dataframe tbody tr th {\n",
       "        vertical-align: top;\n",
       "    }\n",
       "\n",
       "    .dataframe thead th {\n",
       "        text-align: right;\n",
       "    }\n",
       "</style>\n",
       "<table border=\"1\" class=\"dataframe\">\n",
       "  <thead>\n",
       "    <tr style=\"text-align: right;\">\n",
       "      <th></th>\n",
       "      <th>userid</th>\n",
       "      <th>age</th>\n",
       "      <th>dob_day</th>\n",
       "      <th>dob_year</th>\n",
       "      <th>dob_month</th>\n",
       "      <th>gender</th>\n",
       "      <th>tenure</th>\n",
       "      <th>friend_count</th>\n",
       "      <th>friendships_initiated</th>\n",
       "      <th>total_likes</th>\n",
       "      <th>total_likes_recieved</th>\n",
       "      <th>mobile_likes</th>\n",
       "      <th>mobile_likes_received</th>\n",
       "      <th>www_likes</th>\n",
       "      <th>www_likes_received</th>\n",
       "    </tr>\n",
       "  </thead>\n",
       "  <tbody>\n",
       "    <tr>\n",
       "      <th>0</th>\n",
       "      <td>2094382</td>\n",
       "      <td>14</td>\n",
       "      <td>19</td>\n",
       "      <td>1999</td>\n",
       "      <td>11</td>\n",
       "      <td>male</td>\n",
       "      <td>266.0</td>\n",
       "      <td>0</td>\n",
       "      <td>0</td>\n",
       "      <td>0</td>\n",
       "      <td>0</td>\n",
       "      <td>0</td>\n",
       "      <td>0</td>\n",
       "      <td>0</td>\n",
       "      <td>0</td>\n",
       "    </tr>\n",
       "    <tr>\n",
       "      <th>1</th>\n",
       "      <td>1192601</td>\n",
       "      <td>14</td>\n",
       "      <td>2</td>\n",
       "      <td>1999</td>\n",
       "      <td>11</td>\n",
       "      <td>female</td>\n",
       "      <td>6.0</td>\n",
       "      <td>0</td>\n",
       "      <td>0</td>\n",
       "      <td>0</td>\n",
       "      <td>0</td>\n",
       "      <td>0</td>\n",
       "      <td>0</td>\n",
       "      <td>0</td>\n",
       "      <td>0</td>\n",
       "    </tr>\n",
       "    <tr>\n",
       "      <th>2</th>\n",
       "      <td>2083884</td>\n",
       "      <td>14</td>\n",
       "      <td>16</td>\n",
       "      <td>1999</td>\n",
       "      <td>11</td>\n",
       "      <td>male</td>\n",
       "      <td>13.0</td>\n",
       "      <td>0</td>\n",
       "      <td>0</td>\n",
       "      <td>0</td>\n",
       "      <td>0</td>\n",
       "      <td>0</td>\n",
       "      <td>0</td>\n",
       "      <td>0</td>\n",
       "      <td>0</td>\n",
       "    </tr>\n",
       "    <tr>\n",
       "      <th>3</th>\n",
       "      <td>1203168</td>\n",
       "      <td>14</td>\n",
       "      <td>25</td>\n",
       "      <td>1999</td>\n",
       "      <td>12</td>\n",
       "      <td>female</td>\n",
       "      <td>93.0</td>\n",
       "      <td>0</td>\n",
       "      <td>0</td>\n",
       "      <td>0</td>\n",
       "      <td>0</td>\n",
       "      <td>0</td>\n",
       "      <td>0</td>\n",
       "      <td>0</td>\n",
       "      <td>0</td>\n",
       "    </tr>\n",
       "    <tr>\n",
       "      <th>4</th>\n",
       "      <td>1733186</td>\n",
       "      <td>14</td>\n",
       "      <td>4</td>\n",
       "      <td>1999</td>\n",
       "      <td>12</td>\n",
       "      <td>male</td>\n",
       "      <td>82.0</td>\n",
       "      <td>0</td>\n",
       "      <td>0</td>\n",
       "      <td>0</td>\n",
       "      <td>0</td>\n",
       "      <td>0</td>\n",
       "      <td>0</td>\n",
       "      <td>0</td>\n",
       "      <td>0</td>\n",
       "    </tr>\n",
       "  </tbody>\n",
       "</table>\n",
       "</div>"
      ],
      "text/plain": [
       "    userid  age  dob_day  dob_year  dob_month  gender  tenure  friend_count  \\\n",
       "0  2094382   14       19      1999         11    male   266.0             0   \n",
       "1  1192601   14        2      1999         11  female     6.0             0   \n",
       "2  2083884   14       16      1999         11    male    13.0             0   \n",
       "3  1203168   14       25      1999         12  female    93.0             0   \n",
       "4  1733186   14        4      1999         12    male    82.0             0   \n",
       "\n",
       "   friendships_initiated  total_likes  total_likes_recieved  mobile_likes  \\\n",
       "0                      0            0                     0             0   \n",
       "1                      0            0                     0             0   \n",
       "2                      0            0                     0             0   \n",
       "3                      0            0                     0             0   \n",
       "4                      0            0                     0             0   \n",
       "\n",
       "   mobile_likes_received  www_likes  www_likes_received  \n",
       "0                      0          0                   0  \n",
       "1                      0          0                   0  \n",
       "2                      0          0                   0  \n",
       "3                      0          0                   0  \n",
       "4                      0          0                   0  "
      ]
     },
     "execution_count": 10,
     "metadata": {},
     "output_type": "execute_result"
    }
   ],
   "source": [
    "df.head()"
   ]
  },
  {
   "cell_type": "markdown",
   "metadata": {},
   "source": [
    "Exploring the number of rows and columns of the dataset."
   ]
  },
  {
   "cell_type": "code",
   "execution_count": 11,
   "metadata": {},
   "outputs": [
    {
     "data": {
      "text/plain": [
       "(99003, 15)"
      ]
     },
     "execution_count": 11,
     "metadata": {},
     "output_type": "execute_result"
    }
   ],
   "source": [
    "df.shape"
   ]
  },
  {
   "cell_type": "markdown",
   "metadata": {},
   "source": [
    "Basic descriptive statistics about the dataset."
   ]
  },
  {
   "cell_type": "code",
   "execution_count": 12,
   "metadata": {},
   "outputs": [
    {
     "data": {
      "text/html": [
       "<div>\n",
       "<style scoped>\n",
       "    .dataframe tbody tr th:only-of-type {\n",
       "        vertical-align: middle;\n",
       "    }\n",
       "\n",
       "    .dataframe tbody tr th {\n",
       "        vertical-align: top;\n",
       "    }\n",
       "\n",
       "    .dataframe thead th {\n",
       "        text-align: right;\n",
       "    }\n",
       "</style>\n",
       "<table border=\"1\" class=\"dataframe\">\n",
       "  <thead>\n",
       "    <tr style=\"text-align: right;\">\n",
       "      <th></th>\n",
       "      <th>userid</th>\n",
       "      <th>age</th>\n",
       "      <th>dob_day</th>\n",
       "      <th>dob_year</th>\n",
       "      <th>dob_month</th>\n",
       "      <th>tenure</th>\n",
       "      <th>friend_count</th>\n",
       "      <th>friendships_initiated</th>\n",
       "      <th>total_likes</th>\n",
       "      <th>total_likes_recieved</th>\n",
       "      <th>mobile_likes</th>\n",
       "      <th>mobile_likes_received</th>\n",
       "      <th>www_likes</th>\n",
       "      <th>www_likes_received</th>\n",
       "    </tr>\n",
       "  </thead>\n",
       "  <tbody>\n",
       "    <tr>\n",
       "      <th>count</th>\n",
       "      <td>9.900300e+04</td>\n",
       "      <td>99003.000000</td>\n",
       "      <td>99003.000000</td>\n",
       "      <td>99003.000000</td>\n",
       "      <td>99003.000000</td>\n",
       "      <td>99001.000000</td>\n",
       "      <td>99003.000000</td>\n",
       "      <td>99003.000000</td>\n",
       "      <td>99003.000000</td>\n",
       "      <td>99003.000000</td>\n",
       "      <td>99003.000000</td>\n",
       "      <td>99003.000000</td>\n",
       "      <td>99003.000000</td>\n",
       "      <td>99003.000000</td>\n",
       "    </tr>\n",
       "    <tr>\n",
       "      <th>mean</th>\n",
       "      <td>1.597045e+06</td>\n",
       "      <td>37.280224</td>\n",
       "      <td>14.530408</td>\n",
       "      <td>1975.719776</td>\n",
       "      <td>6.283365</td>\n",
       "      <td>537.887375</td>\n",
       "      <td>196.350787</td>\n",
       "      <td>107.452471</td>\n",
       "      <td>156.078785</td>\n",
       "      <td>142.689363</td>\n",
       "      <td>106.116300</td>\n",
       "      <td>84.120491</td>\n",
       "      <td>49.962425</td>\n",
       "      <td>58.568831</td>\n",
       "    </tr>\n",
       "    <tr>\n",
       "      <th>std</th>\n",
       "      <td>3.440592e+05</td>\n",
       "      <td>22.589748</td>\n",
       "      <td>9.015606</td>\n",
       "      <td>22.589748</td>\n",
       "      <td>3.529672</td>\n",
       "      <td>457.649874</td>\n",
       "      <td>387.304229</td>\n",
       "      <td>188.786951</td>\n",
       "      <td>572.280681</td>\n",
       "      <td>1387.919613</td>\n",
       "      <td>445.252985</td>\n",
       "      <td>839.889444</td>\n",
       "      <td>285.560152</td>\n",
       "      <td>601.416348</td>\n",
       "    </tr>\n",
       "    <tr>\n",
       "      <th>min</th>\n",
       "      <td>1.000008e+06</td>\n",
       "      <td>13.000000</td>\n",
       "      <td>1.000000</td>\n",
       "      <td>1900.000000</td>\n",
       "      <td>1.000000</td>\n",
       "      <td>0.000000</td>\n",
       "      <td>0.000000</td>\n",
       "      <td>0.000000</td>\n",
       "      <td>0.000000</td>\n",
       "      <td>0.000000</td>\n",
       "      <td>0.000000</td>\n",
       "      <td>0.000000</td>\n",
       "      <td>0.000000</td>\n",
       "      <td>0.000000</td>\n",
       "    </tr>\n",
       "    <tr>\n",
       "      <th>25%</th>\n",
       "      <td>1.298806e+06</td>\n",
       "      <td>20.000000</td>\n",
       "      <td>7.000000</td>\n",
       "      <td>1963.000000</td>\n",
       "      <td>3.000000</td>\n",
       "      <td>226.000000</td>\n",
       "      <td>31.000000</td>\n",
       "      <td>17.000000</td>\n",
       "      <td>1.000000</td>\n",
       "      <td>1.000000</td>\n",
       "      <td>0.000000</td>\n",
       "      <td>0.000000</td>\n",
       "      <td>0.000000</td>\n",
       "      <td>0.000000</td>\n",
       "    </tr>\n",
       "    <tr>\n",
       "      <th>50%</th>\n",
       "      <td>1.596148e+06</td>\n",
       "      <td>28.000000</td>\n",
       "      <td>14.000000</td>\n",
       "      <td>1985.000000</td>\n",
       "      <td>6.000000</td>\n",
       "      <td>412.000000</td>\n",
       "      <td>82.000000</td>\n",
       "      <td>46.000000</td>\n",
       "      <td>11.000000</td>\n",
       "      <td>8.000000</td>\n",
       "      <td>4.000000</td>\n",
       "      <td>4.000000</td>\n",
       "      <td>0.000000</td>\n",
       "      <td>2.000000</td>\n",
       "    </tr>\n",
       "    <tr>\n",
       "      <th>75%</th>\n",
       "      <td>1.895744e+06</td>\n",
       "      <td>50.000000</td>\n",
       "      <td>22.000000</td>\n",
       "      <td>1993.000000</td>\n",
       "      <td>9.000000</td>\n",
       "      <td>675.000000</td>\n",
       "      <td>206.000000</td>\n",
       "      <td>117.000000</td>\n",
       "      <td>81.000000</td>\n",
       "      <td>59.000000</td>\n",
       "      <td>46.000000</td>\n",
       "      <td>33.000000</td>\n",
       "      <td>7.000000</td>\n",
       "      <td>20.000000</td>\n",
       "    </tr>\n",
       "    <tr>\n",
       "      <th>max</th>\n",
       "      <td>2.193542e+06</td>\n",
       "      <td>113.000000</td>\n",
       "      <td>31.000000</td>\n",
       "      <td>2000.000000</td>\n",
       "      <td>12.000000</td>\n",
       "      <td>3139.000000</td>\n",
       "      <td>4923.000000</td>\n",
       "      <td>4144.000000</td>\n",
       "      <td>25111.000000</td>\n",
       "      <td>261197.000000</td>\n",
       "      <td>25111.000000</td>\n",
       "      <td>138561.000000</td>\n",
       "      <td>14865.000000</td>\n",
       "      <td>129953.000000</td>\n",
       "    </tr>\n",
       "  </tbody>\n",
       "</table>\n",
       "</div>"
      ],
      "text/plain": [
       "             userid           age       dob_day      dob_year     dob_month  \\\n",
       "count  9.900300e+04  99003.000000  99003.000000  99003.000000  99003.000000   \n",
       "mean   1.597045e+06     37.280224     14.530408   1975.719776      6.283365   \n",
       "std    3.440592e+05     22.589748      9.015606     22.589748      3.529672   \n",
       "min    1.000008e+06     13.000000      1.000000   1900.000000      1.000000   \n",
       "25%    1.298806e+06     20.000000      7.000000   1963.000000      3.000000   \n",
       "50%    1.596148e+06     28.000000     14.000000   1985.000000      6.000000   \n",
       "75%    1.895744e+06     50.000000     22.000000   1993.000000      9.000000   \n",
       "max    2.193542e+06    113.000000     31.000000   2000.000000     12.000000   \n",
       "\n",
       "             tenure  friend_count  friendships_initiated   total_likes  \\\n",
       "count  99001.000000  99003.000000           99003.000000  99003.000000   \n",
       "mean     537.887375    196.350787             107.452471    156.078785   \n",
       "std      457.649874    387.304229             188.786951    572.280681   \n",
       "min        0.000000      0.000000               0.000000      0.000000   \n",
       "25%      226.000000     31.000000              17.000000      1.000000   \n",
       "50%      412.000000     82.000000              46.000000     11.000000   \n",
       "75%      675.000000    206.000000             117.000000     81.000000   \n",
       "max     3139.000000   4923.000000            4144.000000  25111.000000   \n",
       "\n",
       "       total_likes_recieved  mobile_likes  mobile_likes_received  \\\n",
       "count          99003.000000  99003.000000           99003.000000   \n",
       "mean             142.689363    106.116300              84.120491   \n",
       "std             1387.919613    445.252985             839.889444   \n",
       "min                0.000000      0.000000               0.000000   \n",
       "25%                1.000000      0.000000               0.000000   \n",
       "50%                8.000000      4.000000               4.000000   \n",
       "75%               59.000000     46.000000              33.000000   \n",
       "max           261197.000000  25111.000000          138561.000000   \n",
       "\n",
       "          www_likes  www_likes_received  \n",
       "count  99003.000000        99003.000000  \n",
       "mean      49.962425           58.568831  \n",
       "std      285.560152          601.416348  \n",
       "min        0.000000            0.000000  \n",
       "25%        0.000000            0.000000  \n",
       "50%        0.000000            2.000000  \n",
       "75%        7.000000           20.000000  \n",
       "max    14865.000000       129953.000000  "
      ]
     },
     "execution_count": 12,
     "metadata": {},
     "output_type": "execute_result"
    }
   ],
   "source": [
    "df.describe()"
   ]
  },
  {
   "cell_type": "markdown",
   "metadata": {},
   "source": [
    "Checking for any missing values in the dataset."
   ]
  },
  {
   "cell_type": "code",
   "execution_count": 13,
   "metadata": {},
   "outputs": [
    {
     "data": {
      "text/plain": [
       "userid                     0\n",
       "age                        0\n",
       "dob_day                    0\n",
       "dob_year                   0\n",
       "dob_month                  0\n",
       "gender                   175\n",
       "tenure                     2\n",
       "friend_count               0\n",
       "friendships_initiated      0\n",
       "total_likes                0\n",
       "total_likes_recieved       0\n",
       "mobile_likes               0\n",
       "mobile_likes_received      0\n",
       "www_likes                  0\n",
       "www_likes_received         0\n",
       "dtype: int64"
      ]
     },
     "execution_count": 13,
     "metadata": {},
     "output_type": "execute_result"
    }
   ],
   "source": [
    "df.isnull().sum()"
   ]
  },
  {
   "cell_type": "markdown",
   "metadata": {},
   "source": [
    "We can see that the column 'gender' contains 175 NaN values and column 'tenure' contains 2 NaN values.\n",
    "\n",
    "Now, we will clean our dataset and get rid of the NaN values."
   ]
  },
  {
   "cell_type": "code",
   "execution_count": 14,
   "metadata": {},
   "outputs": [],
   "source": [
    "df.dropna(how = 'any', axis = 0, inplace = True)"
   ]
  },
  {
   "cell_type": "markdown",
   "metadata": {},
   "source": [
    "Now, again checking for any missing values in the dataset."
   ]
  },
  {
   "cell_type": "code",
   "execution_count": 15,
   "metadata": {},
   "outputs": [
    {
     "data": {
      "text/plain": [
       "userid                   0\n",
       "age                      0\n",
       "dob_day                  0\n",
       "dob_year                 0\n",
       "dob_month                0\n",
       "gender                   0\n",
       "tenure                   0\n",
       "friend_count             0\n",
       "friendships_initiated    0\n",
       "total_likes              0\n",
       "total_likes_recieved     0\n",
       "mobile_likes             0\n",
       "mobile_likes_received    0\n",
       "www_likes                0\n",
       "www_likes_received       0\n",
       "dtype: int64"
      ]
     },
     "execution_count": 15,
     "metadata": {},
     "output_type": "execute_result"
    }
   ],
   "source": [
    "df.isnull().sum()"
   ]
  },
  {
   "cell_type": "markdown",
   "metadata": {},
   "source": [
    "Now our data is cleaned."
   ]
  },
  {
   "cell_type": "markdown",
   "metadata": {},
   "source": [
    "Now we will check the data type of each column."
   ]
  },
  {
   "cell_type": "code",
   "execution_count": 16,
   "metadata": {},
   "outputs": [
    {
     "data": {
      "text/plain": [
       "userid                     int64\n",
       "age                        int64\n",
       "dob_day                    int64\n",
       "dob_year                   int64\n",
       "dob_month                  int64\n",
       "gender                    object\n",
       "tenure                   float64\n",
       "friend_count               int64\n",
       "friendships_initiated      int64\n",
       "total_likes                int64\n",
       "total_likes_recieved       int64\n",
       "mobile_likes               int64\n",
       "mobile_likes_received      int64\n",
       "www_likes                  int64\n",
       "www_likes_received         int64\n",
       "dtype: object"
      ]
     },
     "execution_count": 16,
     "metadata": {},
     "output_type": "execute_result"
    }
   ],
   "source": [
    "df.dtypes"
   ]
  },
  {
   "cell_type": "markdown",
   "metadata": {},
   "source": [
    "As we can see that column 'tenure' is a float value which should be an integer value.Therefore, we will covert its data type to int."
   ]
  },
  {
   "cell_type": "code",
   "execution_count": 17,
   "metadata": {},
   "outputs": [],
   "source": [
    "df['tenure'] = df['tenure'].astype('int')"
   ]
  },
  {
   "cell_type": "markdown",
   "metadata": {},
   "source": [
    "Now, again checking for the data type of each column."
   ]
  },
  {
   "cell_type": "code",
   "execution_count": 18,
   "metadata": {},
   "outputs": [
    {
     "data": {
      "text/plain": [
       "userid                    int64\n",
       "age                       int64\n",
       "dob_day                   int64\n",
       "dob_year                  int64\n",
       "dob_month                 int64\n",
       "gender                   object\n",
       "tenure                    int32\n",
       "friend_count              int64\n",
       "friendships_initiated     int64\n",
       "total_likes               int64\n",
       "total_likes_recieved      int64\n",
       "mobile_likes              int64\n",
       "mobile_likes_received     int64\n",
       "www_likes                 int64\n",
       "www_likes_received        int64\n",
       "dtype: object"
      ]
     },
     "execution_count": 18,
     "metadata": {},
     "output_type": "execute_result"
    }
   ],
   "source": [
    "df.dtypes"
   ]
  },
  {
   "cell_type": "markdown",
   "metadata": {},
   "source": [
    "Now, our data types are formatted correctly."
   ]
  },
  {
   "cell_type": "markdown",
   "metadata": {},
   "source": [
    "Lets create a new column named 'age_group' to group ages into praticular groups."
   ]
  },
  {
   "cell_type": "code",
   "execution_count": 19,
   "metadata": {},
   "outputs": [
    {
     "data": {
      "text/html": [
       "<div>\n",
       "<style scoped>\n",
       "    .dataframe tbody tr th:only-of-type {\n",
       "        vertical-align: middle;\n",
       "    }\n",
       "\n",
       "    .dataframe tbody tr th {\n",
       "        vertical-align: top;\n",
       "    }\n",
       "\n",
       "    .dataframe thead th {\n",
       "        text-align: right;\n",
       "    }\n",
       "</style>\n",
       "<table border=\"1\" class=\"dataframe\">\n",
       "  <thead>\n",
       "    <tr style=\"text-align: right;\">\n",
       "      <th></th>\n",
       "      <th>userid</th>\n",
       "      <th>age</th>\n",
       "      <th>dob_day</th>\n",
       "      <th>dob_year</th>\n",
       "      <th>dob_month</th>\n",
       "      <th>gender</th>\n",
       "      <th>tenure</th>\n",
       "      <th>friend_count</th>\n",
       "      <th>friendships_initiated</th>\n",
       "      <th>total_likes</th>\n",
       "      <th>total_likes_recieved</th>\n",
       "      <th>mobile_likes</th>\n",
       "      <th>mobile_likes_received</th>\n",
       "      <th>www_likes</th>\n",
       "      <th>www_likes_received</th>\n",
       "      <th>age_group</th>\n",
       "    </tr>\n",
       "  </thead>\n",
       "  <tbody>\n",
       "    <tr>\n",
       "      <th>0</th>\n",
       "      <td>2094382</td>\n",
       "      <td>14</td>\n",
       "      <td>19</td>\n",
       "      <td>1999</td>\n",
       "      <td>11</td>\n",
       "      <td>male</td>\n",
       "      <td>266</td>\n",
       "      <td>0</td>\n",
       "      <td>0</td>\n",
       "      <td>0</td>\n",
       "      <td>0</td>\n",
       "      <td>0</td>\n",
       "      <td>0</td>\n",
       "      <td>0</td>\n",
       "      <td>0</td>\n",
       "      <td>10-20</td>\n",
       "    </tr>\n",
       "    <tr>\n",
       "      <th>1</th>\n",
       "      <td>1192601</td>\n",
       "      <td>14</td>\n",
       "      <td>2</td>\n",
       "      <td>1999</td>\n",
       "      <td>11</td>\n",
       "      <td>female</td>\n",
       "      <td>6</td>\n",
       "      <td>0</td>\n",
       "      <td>0</td>\n",
       "      <td>0</td>\n",
       "      <td>0</td>\n",
       "      <td>0</td>\n",
       "      <td>0</td>\n",
       "      <td>0</td>\n",
       "      <td>0</td>\n",
       "      <td>10-20</td>\n",
       "    </tr>\n",
       "    <tr>\n",
       "      <th>2</th>\n",
       "      <td>2083884</td>\n",
       "      <td>14</td>\n",
       "      <td>16</td>\n",
       "      <td>1999</td>\n",
       "      <td>11</td>\n",
       "      <td>male</td>\n",
       "      <td>13</td>\n",
       "      <td>0</td>\n",
       "      <td>0</td>\n",
       "      <td>0</td>\n",
       "      <td>0</td>\n",
       "      <td>0</td>\n",
       "      <td>0</td>\n",
       "      <td>0</td>\n",
       "      <td>0</td>\n",
       "      <td>10-20</td>\n",
       "    </tr>\n",
       "    <tr>\n",
       "      <th>3</th>\n",
       "      <td>1203168</td>\n",
       "      <td>14</td>\n",
       "      <td>25</td>\n",
       "      <td>1999</td>\n",
       "      <td>12</td>\n",
       "      <td>female</td>\n",
       "      <td>93</td>\n",
       "      <td>0</td>\n",
       "      <td>0</td>\n",
       "      <td>0</td>\n",
       "      <td>0</td>\n",
       "      <td>0</td>\n",
       "      <td>0</td>\n",
       "      <td>0</td>\n",
       "      <td>0</td>\n",
       "      <td>10-20</td>\n",
       "    </tr>\n",
       "    <tr>\n",
       "      <th>4</th>\n",
       "      <td>1733186</td>\n",
       "      <td>14</td>\n",
       "      <td>4</td>\n",
       "      <td>1999</td>\n",
       "      <td>12</td>\n",
       "      <td>male</td>\n",
       "      <td>82</td>\n",
       "      <td>0</td>\n",
       "      <td>0</td>\n",
       "      <td>0</td>\n",
       "      <td>0</td>\n",
       "      <td>0</td>\n",
       "      <td>0</td>\n",
       "      <td>0</td>\n",
       "      <td>0</td>\n",
       "      <td>10-20</td>\n",
       "    </tr>\n",
       "  </tbody>\n",
       "</table>\n",
       "</div>"
      ],
      "text/plain": [
       "    userid  age  dob_day  dob_year  dob_month  gender  tenure  friend_count  \\\n",
       "0  2094382   14       19      1999         11    male     266             0   \n",
       "1  1192601   14        2      1999         11  female       6             0   \n",
       "2  2083884   14       16      1999         11    male      13             0   \n",
       "3  1203168   14       25      1999         12  female      93             0   \n",
       "4  1733186   14        4      1999         12    male      82             0   \n",
       "\n",
       "   friendships_initiated  total_likes  total_likes_recieved  mobile_likes  \\\n",
       "0                      0            0                     0             0   \n",
       "1                      0            0                     0             0   \n",
       "2                      0            0                     0             0   \n",
       "3                      0            0                     0             0   \n",
       "4                      0            0                     0             0   \n",
       "\n",
       "   mobile_likes_received  www_likes  www_likes_received age_group  \n",
       "0                      0          0                   0     10-20  \n",
       "1                      0          0                   0     10-20  \n",
       "2                      0          0                   0     10-20  \n",
       "3                      0          0                   0     10-20  \n",
       "4                      0          0                   0     10-20  "
      ]
     },
     "execution_count": 19,
     "metadata": {},
     "output_type": "execute_result"
    }
   ],
   "source": [
    "labels=['10-20','21-30','31-40','41-50','51-60','61-70','71-80','81-90','91-100','101-110','111-120']\n",
    "df['age_group'] = pd.cut(df['age'],bins=np.arange(10,121,10),labels=labels,right=True)\n",
    "df.head()"
   ]
  },
  {
   "cell_type": "markdown",
   "metadata": {},
   "source": [
    "Now, are dataset is ready for analysis."
   ]
  },
  {
   "cell_type": "markdown",
   "metadata": {},
   "source": [
    "## Exploratory Analysis and Visualization\n",
    "\n",
    "In this section, we will analyse some important insights about the data and visualize it with the help of python libraries.\n",
    "In this section we have analysed:\n",
    "- Representation of users on basis of gender.\n",
    "- Distribution of users age.\n",
    "- Comparison of number of friends and age on gender basis.\n",
    "- Out of male or female, which category have most non-active accounts.\n",
    "- Top 10 most liked users of facebook."
   ]
  },
  {
   "cell_type": "markdown",
   "metadata": {},
   "source": [
    "Let's begin by importing`matplotlib.pyplot` and `seaborn`."
   ]
  },
  {
   "cell_type": "code",
   "execution_count": 20,
   "metadata": {},
   "outputs": [],
   "source": [
    "import seaborn as sns\n",
    "import matplotlib\n",
    "import matplotlib.pyplot as plt\n",
    "%matplotlib inline\n",
    "\n",
    "sns.set_style('darkgrid')\n",
    "matplotlib.rcParams['font.size'] = 14\n",
    "matplotlib.rcParams['figure.figsize'] = (12, 8)\n",
    "matplotlib.rcParams['figure.facecolor'] = '#00000000'"
   ]
  },
  {
   "cell_type": "markdown",
   "metadata": {},
   "source": [
    "**Representation of facebook users on basis of gender**"
   ]
  },
  {
   "cell_type": "code",
   "execution_count": 21,
   "metadata": {},
   "outputs": [
    {
     "data": {
      "image/png": "[encoded data removed]",
      "text/plain": [
       "<Figure size 864x576 with 1 Axes>"
      ]
     },
     "metadata": {},
     "output_type": "display_data"
    }
   ],
   "source": [
    "plt.pie(df['gender'].value_counts(), labels = ['male', 'female'], autopct='%1.1f%%');"
   ]
  },
  {
   "cell_type": "markdown",
   "metadata": {},
   "source": [
    "From the above pie chart, we can conclude that on facebook male users are more as compared to female users."
   ]
  },
  {
   "cell_type": "markdown",
   "metadata": {},
   "source": [
    "**Distribution of users age on Facebook** "
   ]
  },
  {
   "cell_type": "code",
   "execution_count": 22,
   "metadata": {},
   "outputs": [
    {
     "data": {
      "image/png": "[encoded data removed]",
      "text/plain": [
       "<Figure size 864x576 with 1 Axes>"
      ]
     },
     "metadata": {
      "needs_background": "light"
     },
     "output_type": "display_data"
    }
   ],
   "source": [
    "sns.histplot(df['age_group'], shrink = 0.80);"
   ]
  },
  {
   "cell_type": "markdown",
   "metadata": {},
   "source": [
    "As from the above graph, we can conclude that facebook is mostly used by the young generations(10-40) as compared to the middled aged and older aged groups."
   ]
  },
  {
   "cell_type": "markdown",
   "metadata": {},
   "source": [
    "**Comparison of number of facebook friends on basis of gender** "
   ]
  },
  {
   "cell_type": "code",
   "execution_count": 23,
   "metadata": {},
   "outputs": [
    {
     "data": {
      "image/png": "[encoded data removed]",
      "text/plain": [
       "<Figure size 864x576 with 1 Axes>"
      ]
     },
     "metadata": {
      "needs_background": "light"
     },
     "output_type": "display_data"
    }
   ],
   "source": [
    "sns.barplot(x = df['age_group'], y = df['friend_count'], hue = df['gender']);"
   ]
  },
  {
   "cell_type": "markdown",
   "metadata": {},
   "source": [
    "From the above, we can say that females have more friends as compared to males."
   ]
  },
  {
   "cell_type": "markdown",
   "metadata": {},
   "source": [
    "**Out of male or female, which category have most non-active accounts**"
   ]
  },
  {
   "cell_type": "code",
   "execution_count": 24,
   "metadata": {},
   "outputs": [],
   "source": [
    "dummy = df[(df['total_likes'] == 0) & (df['total_likes_recieved'] == 0) & (df['friend_count'] == 0) & (df['friendships_initiated'] == 0)]"
   ]
  },
  {
   "cell_type": "code",
   "execution_count": 25,
   "metadata": {},
   "outputs": [
    {
     "data": {
      "image/png": "[encoded data removed]",
      "text/plain": [
       "<Figure size 360x360 with 1 Axes>"
      ]
     },
     "metadata": {
      "needs_background": "light"
     },
     "output_type": "display_data"
    }
   ],
   "source": [
    "sns.displot(dummy['gender']);"
   ]
  },
  {
   "cell_type": "markdown",
   "metadata": {},
   "source": [
    "From the above graph, we can conclude that the male category have most non-active accounts."
   ]
  },
  {
   "cell_type": "markdown",
   "metadata": {},
   "source": [
    "**Top 10 most liked users**"
   ]
  },
  {
   "cell_type": "code",
   "execution_count": 26,
   "metadata": {},
   "outputs": [],
   "source": [
    "dummy2 = df[['userid','gender','total_likes_recieved']].sort_values(by = 'total_likes_recieved', ascending=False).head(10)"
   ]
  },
  {
   "cell_type": "code",
   "execution_count": 27,
   "metadata": {},
   "outputs": [
    {
     "data": {
      "image/png": "[encoded data removed]",
      "text/plain": [
       "<Figure size 864x576 with 1 Axes>"
      ]
     },
     "metadata": {
      "needs_background": "light"
     },
     "output_type": "display_data"
    }
   ],
   "source": [
    "sns.barplot(x = dummy2['userid'], y = dummy2['total_likes_recieved'], hue = dummy2['gender']);"
   ]
  },
  {
   "cell_type": "markdown",
   "metadata": {},
   "source": [
    "From the above graph, we can conclude that out of 10 most liked personality 6 are females."
   ]
  },
  {
   "cell_type": "markdown",
   "metadata": {},
   "source": [
    "## Asking and Answering Questions\n",
    "\n",
    "We have already gained several insights about the users. Now, lets ask some specific questions, and try to answer them using data frame operations."
   ]
  },
  {
   "cell_type": "markdown",
   "metadata": {},
   "source": [
    "#### Q1: Number of friendship initiated by male and female"
   ]
  },
  {
   "cell_type": "code",
   "execution_count": 28,
   "metadata": {},
   "outputs": [
    {
     "data": {
      "text/html": [
       "<div>\n",
       "<style scoped>\n",
       "    .dataframe tbody tr th:only-of-type {\n",
       "        vertical-align: middle;\n",
       "    }\n",
       "\n",
       "    .dataframe tbody tr th {\n",
       "        vertical-align: top;\n",
       "    }\n",
       "\n",
       "    .dataframe thead th {\n",
       "        text-align: right;\n",
       "    }\n",
       "</style>\n",
       "<table border=\"1\" class=\"dataframe\">\n",
       "  <thead>\n",
       "    <tr style=\"text-align: right;\">\n",
       "      <th></th>\n",
       "      <th>friendships_initiated</th>\n",
       "    </tr>\n",
       "    <tr>\n",
       "      <th>gender</th>\n",
       "      <th></th>\n",
       "    </tr>\n",
       "  </thead>\n",
       "  <tbody>\n",
       "    <tr>\n",
       "      <th>female</th>\n",
       "      <td>4584801</td>\n",
       "    </tr>\n",
       "    <tr>\n",
       "      <th>male</th>\n",
       "      <td>6037023</td>\n",
       "    </tr>\n",
       "  </tbody>\n",
       "</table>\n",
       "</div>"
      ],
      "text/plain": [
       "        friendships_initiated\n",
       "gender                       \n",
       "female                4584801\n",
       "male                  6037023"
      ]
     },
     "execution_count": 28,
     "metadata": {},
     "output_type": "execute_result"
    }
   ],
   "source": [
    "d = df.groupby('gender')\n",
    "d[['friendships_initiated']].sum()"
   ]
  },
  {
   "cell_type": "markdown",
   "metadata": {},
   "source": [
    "The above query shows that males are good at initiating new friendships."
   ]
  },
  {
   "cell_type": "markdown",
   "metadata": {},
   "source": [
    "#### Q2: In which month maximum number of birthdays are celebrated on facebook"
   ]
  },
  {
   "cell_type": "code",
   "execution_count": 29,
   "metadata": {},
   "outputs": [
    {
     "data": {
      "text/plain": [
       "1"
      ]
     },
     "execution_count": 29,
     "metadata": {},
     "output_type": "execute_result"
    }
   ],
   "source": [
    "df['dob_month'].value_counts().idxmax()"
   ]
  },
  {
   "cell_type": "markdown",
   "metadata": {},
   "source": [
    "The above query shows that maximum number of birthdays are celebrated in the month of January."
   ]
  },
  {
   "cell_type": "markdown",
   "metadata": {},
   "source": [
    "#### Q3: Which top 10 users have the maximum number of friends on facebook"
   ]
  },
  {
   "cell_type": "code",
   "execution_count": 30,
   "metadata": {},
   "outputs": [
    {
     "data": {
      "text/plain": [
       "userid\n",
       "2090699    4923\n",
       "1660276    4917\n",
       "1926655    4863\n",
       "1685573    4845\n",
       "1386477    4844\n",
       "1604095    4826\n",
       "2042824    4817\n",
       "1529639    4803\n",
       "1587911    4797\n",
       "1205425    4794\n",
       "Name: friend_count, dtype: int64"
      ]
     },
     "execution_count": 30,
     "metadata": {},
     "output_type": "execute_result"
    }
   ],
   "source": [
    "df.groupby('userid')['friend_count'].max().sort_values(ascending= False).head(10)"
   ]
  },
  {
   "cell_type": "markdown",
   "metadata": {},
   "source": [
    "The above query displays the top 10 users that have maximum number of friends."
   ]
  },
  {
   "cell_type": "markdown",
   "metadata": {},
   "source": [
    "#### Q4: Which top 10 facebook users have the longest tenure"
   ]
  },
  {
   "cell_type": "code",
   "execution_count": 31,
   "metadata": {},
   "outputs": [
    {
     "data": {
      "text/plain": [
       "userid\n",
       "2135122    3139\n",
       "1419799    3139\n",
       "1601778    3139\n",
       "2137369    3129\n",
       "2111567    3128\n",
       "1934957    3101\n",
       "2032933    3019\n",
       "2171167    2958\n",
       "1701874    2926\n",
       "1574331    2888\n",
       "Name: tenure, dtype: int32"
      ]
     },
     "execution_count": 31,
     "metadata": {},
     "output_type": "execute_result"
    }
   ],
   "source": [
    "df.groupby('userid')['tenure'].max().sort_values(ascending = False).head(10)"
   ]
  },
  {
   "cell_type": "markdown",
   "metadata": {},
   "source": [
    "The above query displays top 10 users that have maximum number of tenure."
   ]
  },
  {
   "cell_type": "markdown",
   "metadata": {},
   "source": [
    "#### Q5: Number of users that haven't performed any activity on facebook."
   ]
  },
  {
   "cell_type": "code",
   "execution_count": 32,
   "metadata": {},
   "outputs": [
    {
     "data": {
      "text/plain": [
       "1664"
      ]
     },
     "execution_count": 32,
     "metadata": {},
     "output_type": "execute_result"
    }
   ],
   "source": [
    "df[(df['total_likes'] == 0) & (df['total_likes_recieved'] == 0) & (df['friend_count'] == 0) & (df['friendships_initiated'] == 0)].shape[0]"
   ]
  },
  {
   "cell_type": "markdown",
   "metadata": {},
   "source": [
    "The above query displays total number of users that haven't performed any activity on facebook."
   ]
  },
  {
   "cell_type": "markdown",
   "metadata": {},
   "source": [
    "## Inferences and Conclusion\n",
    "\n",
    "We have drawn many interesting interferences from the dataset, here's a summary of few of them:\n",
    "- On facebook, male users are more as compared to the female users.\n",
    "- Facebook is mostly used by younger persons as compared to other age group. So, it would be more efficient and easy for the marketing company to target younger generation using facebook as its advertising platform.\n",
    "- Mostly females especially young, have a good network(friend circle) on facebook which means that if advertising company targets these young females for there products, there is a high probability there products will become popular in a short span of time.\n",
    "- From the dataset, we can also say that many males are non-active as compared to the females. Therefore, any company will not try to target the non-active users.\n",
    "- The advertising companies can also hire most liked facebook users for there products as they are very much popular on this platform.\n",
    "- Males are good at initiating new friendships.\n",
    "- Maximum number of birthdays are celebrated in month of January. This information can be useful for Event Management companies to increase there marketing before January to get maximum benifit."
   ]
  }
 ],
 "metadata": {
  "kernelspec": {
   "display_name": "Python 3",
   "language": "python",
   "name": "python3"
  },
  "language_info": {
   "codemirror_mode": {
    "name": "ipython",
    "version": 3
   },
   "file_extension": ".py",
   "mimetype": "text/x-python",
   "name": "python",
   "nbconvert_exporter": "python",
   "pygments_lexer": "ipython3",
   "version": "3.7.6"
  }
 },
 "nbformat": 4,
 "nbformat_minor": 4
}
